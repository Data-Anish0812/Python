{
 "cells": [
  {
   "cell_type": "code",
   "execution_count": 3,
   "id": "e4ad677b",
   "metadata": {},
   "outputs": [],
   "source": [
    "import requests\n",
    "from bs4 import BeautifulSoup   #For Web Scrapping\n",
    "import re\n",
    "import pandas as pd"
   ]
  },
  {
   "cell_type": "code",
   "execution_count": 5,
   "id": "ef70c233",
   "metadata": {},
   "outputs": [
    {
     "name": "stdout",
     "output_type": "stream",
     "text": [
      "Defaulting to user installation because normal site-packages is not writeable\n",
      "Collecting selenium\n",
      "  Downloading selenium-4.26.1-py3-none-any.whl (9.7 MB)\n",
      "Requirement already satisfied: typing_extensions~=4.9 in c:\\users\\admin\\appdata\\roaming\\python\\python39\\site-packages (from selenium) (4.12.2)\n",
      "Requirement already satisfied: urllib3[socks]<3,>=1.26 in c:\\programdata\\anaconda3\\lib\\site-packages (from selenium) (1.26.9)\n",
      "Requirement already satisfied: certifi>=2021.10.8 in c:\\programdata\\anaconda3\\lib\\site-packages (from selenium) (2021.10.8)\n",
      "Collecting trio-websocket~=0.9\n",
      "  Downloading trio_websocket-0.11.1-py3-none-any.whl (17 kB)\n",
      "Collecting websocket-client~=1.8\n",
      "  Downloading websocket_client-1.8.0-py3-none-any.whl (58 kB)\n",
      "Collecting trio~=0.17\n",
      "  Downloading trio-0.27.0-py3-none-any.whl (481 kB)\n",
      "Requirement already satisfied: sortedcontainers in c:\\programdata\\anaconda3\\lib\\site-packages (from trio~=0.17->selenium) (2.4.0)\n",
      "Collecting exceptiongroup\n",
      "  Downloading exceptiongroup-1.2.2-py3-none-any.whl (16 kB)\n",
      "Collecting outcome\n",
      "  Downloading outcome-1.3.0.post0-py2.py3-none-any.whl (10 kB)\n",
      "Requirement already satisfied: idna in c:\\programdata\\anaconda3\\lib\\site-packages (from trio~=0.17->selenium) (3.3)\n",
      "Collecting sniffio>=1.3.0\n",
      "  Downloading sniffio-1.3.1-py3-none-any.whl (10 kB)\n",
      "Requirement already satisfied: cffi>=1.14 in c:\\programdata\\anaconda3\\lib\\site-packages (from trio~=0.17->selenium) (1.15.0)\n",
      "Collecting attrs>=23.2.0\n",
      "  Downloading attrs-24.2.0-py3-none-any.whl (63 kB)\n",
      "Requirement already satisfied: pycparser in c:\\programdata\\anaconda3\\lib\\site-packages (from cffi>=1.14->trio~=0.17->selenium) (2.21)\n",
      "Collecting wsproto>=0.14\n",
      "  Downloading wsproto-1.2.0-py3-none-any.whl (24 kB)\n",
      "Requirement already satisfied: PySocks!=1.5.7,<2.0,>=1.5.6 in c:\\programdata\\anaconda3\\lib\\site-packages (from urllib3[socks]<3,>=1.26->selenium) (1.7.1)\n",
      "Collecting h11<1,>=0.9.0\n",
      "  Downloading h11-0.14.0-py3-none-any.whl (58 kB)\n",
      "Installing collected packages: attrs, sniffio, outcome, h11, exceptiongroup, wsproto, trio, websocket-client, trio-websocket, selenium\n",
      "Successfully installed attrs-24.2.0 exceptiongroup-1.2.2 h11-0.14.0 outcome-1.3.0.post0 selenium-4.26.1 sniffio-1.3.1 trio-0.27.0 trio-websocket-0.11.1 websocket-client-1.8.0 wsproto-1.2.0\n",
      "Note: you may need to restart the kernel to use updated packages.\n"
     ]
    },
    {
     "name": "stderr",
     "output_type": "stream",
     "text": [
      "  WARNING: The script wsdump.exe is installed in 'C:\\Users\\admin\\AppData\\Roaming\\Python\\Python39\\Scripts' which is not on PATH.\n",
      "  Consider adding this directory to PATH or, if you prefer to suppress this warning, use --no-warn-script-location.\n",
      "ERROR: pip's dependency resolver does not currently take into account all the packages that are installed. This behaviour is the source of the following dependency conflicts.\n",
      "jupyter-server 1.13.5 requires pywinpty<2; os_name == \"nt\", but you have pywinpty 2.0.2 which is incompatible.\n"
     ]
    }
   ],
   "source": [
    "pip install selenium\n",
    "#chrome for testing -> download chromedriver"
   ]
  },
  {
   "cell_type": "code",
   "execution_count": 6,
   "id": "9f6bb68c",
   "metadata": {},
   "outputs": [],
   "source": [
    "url='https://www.ebay.com/sch/i.html?_nkw=laptops'"
   ]
  },
  {
   "cell_type": "code",
   "execution_count": 12,
   "id": "e3d91007",
   "metadata": {},
   "outputs": [],
   "source": [
    "response=requests.get(url)"
   ]
  },
  {
   "cell_type": "code",
   "execution_count": 9,
   "id": "03f8ba86",
   "metadata": {},
   "outputs": [],
   "source": [
    "#smtplib -> email mess automation\n",
    "#alright-> whatsapp automation"
   ]
  },
  {
   "cell_type": "code",
   "execution_count": 14,
   "id": "863ef5f5",
   "metadata": {},
   "outputs": [],
   "source": [
    "soup=BeautifulSoup(response.text,'html.parser')"
   ]
  },
  {
   "cell_type": "code",
   "execution_count": 16,
   "id": "d0428f1d",
   "metadata": {},
   "outputs": [],
   "source": [
    "product_list=soup.find_all('li',{'class':'s-item'})"
   ]
  },
  {
   "cell_type": "code",
   "execution_count": 29,
   "id": "cf73e334",
   "metadata": {},
   "outputs": [
    {
     "data": {
      "text/plain": [
       "78"
      ]
     },
     "execution_count": 29,
     "metadata": {},
     "output_type": "execute_result"
    }
   ],
   "source": [
    "len(product_list)"
   ]
  },
  {
   "cell_type": "code",
   "execution_count": null,
   "id": "e8251a5d",
   "metadata": {},
   "outputs": [],
   "source": [
    "#regex website \\d for extracting digits"
   ]
  },
  {
   "cell_type": "code",
   "execution_count": 37,
   "id": "c67e8f14",
   "metadata": {},
   "outputs": [
    {
     "name": "stdout",
     "output_type": "stream",
     "text": [
      "Brand New\n",
      "Brand New\n",
      "Very Good - Refurbished · HP\n",
      "Excellent - Refurbished · Dell\n",
      "Excellent - Refurbished · Dell\n",
      "Very Good - Refurbished · Dell\n",
      "Very Good - Refurbished · HP\n",
      "Pre-Owned · Dell · 512 GB\n",
      "Very Good - Refurbished · Dell\n",
      "Excellent - Refurbished · HP\n",
      "Very Good - Refurbished · Dell\n",
      "Very Good - Refurbished · HP\n",
      "Pre-Owned · HP · 16 GB\n",
      "Pre-Owned · Dell\n",
      "Very Good - Refurbished · HP\n",
      "Very Good - Refurbished · HP\n",
      "Excellent - Refurbished · Dell\n",
      "Very Good - Refurbished · Dell\n",
      "Pre-Owned · Dell\n",
      "Excellent - Refurbished · HP\n",
      "Brand New · Chuwi · 256 GB\n",
      "Refurbished - 1 Year Warranty!\n",
      "Brand New · Dell\n",
      "✅Free Office 365  ✅8GB|12GB|20GB RAM✅512GB|1TB SSD\n",
      "✅8GB|16GB|32GB RAM✅512GB|1TB SSD✅ Fatt Shipping\n",
      "Fast Shipping🚚💨Top Quality🥇Positive Feedback🌟\n",
      "✅ 1-Y Microsoft Office 365 ✅ Large Storage✅ Slim Light\n",
      "Excellent - Refurbished · Lenovo\n",
      "Brand New\n",
      "Brand New · HP\n",
      "Open Box · Lenovo\n",
      "Excellent - Refurbished · Dell\n",
      "Very Good - Refurbished · Dell · 256 GB\n",
      "Very Good - Refurbished · HP\n",
      "✅High Performance ✅Windows 11 Pro ✅Clearance On Sale\n",
      "✅ Fast Shipping ✅For Business  ✅Clearance On Sale\n",
      "✅6GB|24GB|40GB RAM✅512GB|1TB|2TB SSD✅ Number Pad, Fast\n",
      "✅LifeTime MS Office  ✅8GB|32GB|64GB RAM ✅512GB|2TB SSD\n",
      "✅16GB|32GB|64GB RAM ✅512GB|1TB|2TB SSD ✅Windows 11 Pro\n",
      "Refurbished - 1 Year Warranty!\n",
      "Very Good - Refurbished · HP\n",
      "Very Good - Refurbished · HP\n",
      "Fast Shipping🚚💨Top Quality🥇Positive Feedback🌟\n",
      "Brand New - Full Warranty\n",
      "✅LifeTime MS Office  ✅High Performance Fast  ✅ On Sale\n",
      "Very Good - Refurbished · Acer\n",
      "Brand New - Full Warranty\n",
      "Brand New - Full Warranty\n",
      "Brand New · ASUS\n",
      "Open Box · Lenovo · 1 TB\n",
      "Very Good - Refurbished · Acer · 256 GB\n",
      "Brand New - Full Warranty\n",
      "Brand New\n",
      "Open Box · HP\n",
      "Brand New · Samsung · 512 GB\n",
      "Good - Refurbished · Dell\n",
      "Brand New · ASUS\n",
      "Very Good - Refurbished · HP\n",
      "Brand New · HP · 512 GB\n",
      "16GB RAM! 512GB SSD! WiFi Ready! Built in Webcam!\n",
      "🛒  2024 Black Friday Sale !! 🎁  1 Year Warranty  ✅\n",
      "Refurbished - 1 Year Warranty\n",
      "🛒  2024 Black Friday Sale !! 🎁  1 Year Warranty  ✅\n",
      "Certified Refurbished - 2 Year Warranty\n",
      "🛒  2024 Black Friday Sale !! 🎁  1 Year Warranty  ✅\n",
      "Shop With Confidence, Buy From Newegg\n",
      "Refurbished - 1 Year Warranty\n",
      "🛒  2024 Black Friday Sale !! 🎁  1 Year Warranty  ✅\n",
      "Refurbished - 1 Year Warranty\n",
      "Free 30 Day Returns, Charger Included\n",
      "CD/DVD Drive! WiFi Ready!! HD Display! 1 Year Warranty!\n",
      "Shop With Confidence, Buy From Newegg\n",
      "Very Good - Refurbished · Dell · 256 GB\n",
      "Free 30 Day Returns, Charger Included\n",
      "Certified - Refurbished · HP\n",
      "Good - Refurbished\n",
      "Very Good - Refurbished · HP\n",
      "Excellent - Refurbished · HP\n"
     ]
    }
   ],
   "source": [
    "for i in product_list:\n",
    "    try:\n",
    "        print(i.find('div',class_='s-item__subtitle').text)\n",
    "        print(i.find('div',class_='s-item__price').text)\n",
    "        break\n",
    "    except:\n",
    "        pass"
   ]
  },
  {
   "cell_type": "code",
   "execution_count": 38,
   "id": "df1b3432",
   "metadata": {},
   "outputs": [
    {
     "data": {
      "text/plain": [
       "'Excellent - Refurbished · HP'"
      ]
     },
     "execution_count": 38,
     "metadata": {},
     "output_type": "execute_result"
    }
   ],
   "source": [
    "i.find('div',class_='s-item__subtitle').text"
   ]
  },
  {
   "cell_type": "code",
   "execution_count": null,
   "id": "d1edef1f",
   "metadata": {},
   "outputs": [],
   "source": [
    "re.findall(r'[^\\w\\s]',product_name)"
   ]
  }
 ],
 "metadata": {
  "kernelspec": {
   "display_name": "Python 3 (ipykernel)",
   "language": "python",
   "name": "python3"
  },
  "language_info": {
   "codemirror_mode": {
    "name": "ipython",
    "version": 3
   },
   "file_extension": ".py",
   "mimetype": "text/x-python",
   "name": "python",
   "nbconvert_exporter": "python",
   "pygments_lexer": "ipython3",
   "version": "3.9.12"
  }
 },
 "nbformat": 4,
 "nbformat_minor": 5
}
