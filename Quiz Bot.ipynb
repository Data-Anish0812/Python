{
 "cells": [
  {
   "cell_type": "code",
   "execution_count": 4,
   "id": "4ca2dfc8",
   "metadata": {},
   "outputs": [
    {
     "name": "stdout",
     "output_type": "stream",
     "text": [
      "Welcome to Who will be Billionare\n",
      "Please enter your name:Anish\n",
      "Hello Anish Your cuurent score is 0\n",
      "1. What is the national bird of IndiaPeacock\n",
      "Wow!! You are correct\n",
      "Your current score is 10\n",
      "2. What is the Capital of FrancePARIS\n",
      "Wow!! You are correct\n",
      "Your current score is 20\n",
      "3. How many Continents are there on world7\n",
      "Wow!! You are correct\n",
      "Your current score is 30\n",
      "4. Who is Prime Minister of IndiaNARENDRA MODI\n",
      "Oops! Sorry you are wrong\n",
      "Your current score is 25\n",
      "5. What is the National flower of IndiaLOTUS\n",
      "Oops! Sorry you are wrong\n",
      "Your current score is 20\n"
     ]
    }
   ],
   "source": [
    "#Quiz Bot\n",
    "#Welcome User\n",
    "print('Welcome to Who will be Billionare')\n",
    "#Ask user its name\n",
    "username=input('Please enter your name:')\n",
    "#set your score to 0\n",
    "userscore=0\n",
    "print('Hello',username,'Your cuurent score is',userscore)\n",
    "#Ask questions\n",
    "national_bird=input('1. What is the national bird of India ')\n",
    "if national_bird.lower()=='peacock':\n",
    "    print('Wow!! You are correct')\n",
    "    userscore+=10\n",
    "    print('Your current score is',userscore)\n",
    "else:\n",
    "    print('Oops! Sorry you are wrong')\n",
    "    userscore-=5\n",
    "    print('Your current score is',userscore)\n",
    "    \n",
    "france_cap=input('2. What is the Capital of France ')\n",
    "if france_cap.lower()=='paris':\n",
    "    print('Wow!! You are correct')\n",
    "    userscore+=10\n",
    "    print('Your current score is',userscore)\n",
    "else:\n",
    "    print('Oops! Sorry you are wrong')\n",
    "    userscore-=5\n",
    "    print('Your current score is',userscore)\n",
    "\n",
    "total_cont=input('3. How many Continents are there on world ')\n",
    "if total_cont=='7':\n",
    "    print('Wow!! You are correct')\n",
    "    userscore+=10\n",
    "    print('Your current score is',userscore)\n",
    "else:\n",
    "    print('Oops! Sorry you are wrong')\n",
    "    userscore-=5\n",
    "    print('Your current score is',userscore)\n",
    "    \n",
    "pm=input('4. Who is Prime Minister of India ')\n",
    "if pm.lower()=='narendra modi':\n",
    "    print('Wow!! You are correct')\n",
    "    userscore+=10\n",
    "    print('Your current score is',userscore)\n",
    "else:\n",
    "    print('Oops! Sorry you are wrong')\n",
    "    userscore-=5\n",
    "    print('Your current score is',userscore)\n",
    "\n",
    "flower=input('5. What is the National flower of India ')\n",
    "if flower.lower()=='Lotus':\n",
    "    print('Wow!! You are correct')\n",
    "    userscore+=10\n",
    "    print('Your current score is',userscore)\n",
    "else:\n",
    "    print('Oops! Sorry you are wrong')\n",
    "    userscore-=5\n",
    "    print('Your current score is',userscore)\n",
    "\n",
    "#take user answer\n",
    "#if match <-- add score\n",
    "#ele <-- decrease"
   ]
  },
  {
   "cell_type": "code",
   "execution_count": null,
   "id": "3486c780",
   "metadata": {},
   "outputs": [],
   "source": []
  }
 ],
 "metadata": {
  "kernelspec": {
   "display_name": "Python 3 (ipykernel)",
   "language": "python",
   "name": "python3"
  },
  "language_info": {
   "codemirror_mode": {
    "name": "ipython",
    "version": 3
   },
   "file_extension": ".py",
   "mimetype": "text/x-python",
   "name": "python",
   "nbconvert_exporter": "python",
   "pygments_lexer": "ipython3",
   "version": "3.9.12"
  }
 },
 "nbformat": 4,
 "nbformat_minor": 5
}
