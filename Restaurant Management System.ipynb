{
 "cells": [
  {
   "cell_type": "code",
   "execution_count": 1,
   "id": "3b78c862-f9bb-4a0c-be9a-b5ebdfb14aa1",
   "metadata": {},
   "outputs": [],
   "source": [
    "class RMS:\n",
    "    def __init__(self,restaurant_name,restaurant_menu):\n",
    "        self.rest_name=restaurant_name\n",
    "        self.menu=restaurant_menu\n",
    "        self.user_choice=''\n",
    "        self.total_bill=0\n",
    "        self.user_pay=0\n",
    "    def welcome_user(self):\n",
    "        print('Welcome to',self.rest_name.title())\n",
    "    def display_menu(self):\n",
    "        for i in self.menu:\n",
    "            print(i.title(),self.menu[i])\n",
    "    def take_order(self):\n",
    "        self.user_choice=input('Please place your order here:')\n",
    "    def preparing_order(self):\n",
    "        import time\n",
    "        print('Preparing your',self.user_choice)\n",
    "        time.sleep(2)\n",
    "        self.total_bill=self.total_bill+self.menu[self.user_choice]\n",
    "    def serve_order(self):\n",
    "        print('Your order is ready!')\n",
    "        print('Please enjoy your',self.user_choice.title())\n",
    "    def display_bill(self):\n",
    "        print('Your total bill:',self.total_bill)\n",
    "    def verify_payment(self):\n",
    "        self.user_pay=int(input('Please pay your bill here:'))\n",
    "        while self.user_pay<self.total_bill:\n",
    "            self.total_bill=self.total_bill-self.user_pay\n",
    "            print('Invalid Payment')\n",
    "            print('Please pay remaining',self.total_bill)\n",
    "            self.user_pay=int(input('Please pay your bill here:'))\n",
    "        if self.user_pay>self.total_bill:\n",
    "            print('Payment Successful')\n",
    "            print('Here is your change:',self.user_pay-self.total_bill)\n",
    "        else:\n",
    "            pass\n",
    "    def thank_user(self):\n",
    "        print('Thank you for visiting',self.rest_name)\n",
    "\n",
    "    def order_process(self):\n",
    "        self.display_menu()\n",
    "        self.take_order()\n",
    "\n",
    "        if self.user_choice.lower() in self.menu:\n",
    "            self.preparing_order()\n",
    "            self.serve_order()\n",
    "            self.user_rep=input('Do you want to order anything else?')\n",
    "            while self.user_rep.lower()=='yes':\n",
    "                self.repeating_order()\n",
    "                self.user_rep=input('Do you want to order anything else?')\n",
    "            self.display_bill()\n",
    "            self.verify_payment()\n",
    "            self.thank_user()\n",
    "        else:\n",
    "            print('Invalid Order')\n",
    "            self.order_process()\n",
    "    def repeating_order(self):\n",
    "        self.display_menu()\n",
    "        self.take_order()\n",
    "        if self.user_choice.lower() in self.menu:\n",
    "            self.preparing_order()\n",
    "            self.serve_order()\n",
    "        else:\n",
    "            print('Invalid Order')\n",
    "            self.repeating_order()\n",
    "\n",
    "\n"
   ]
  },
  {
   "cell_type": "code",
   "execution_count": null,
   "id": "dd22b5a0-158d-4044-a4e4-7f4ec2d8704b",
   "metadata": {},
   "outputs": [
    {
     "name": "stdout",
     "output_type": "stream",
     "text": [
      "Latte 200\n",
      "Drip Coffee 140\n",
      "Chai-Tea 120\n",
      "Cappuccino 170\n",
      "Espresso 160\n"
     ]
    },
    {
     "name": "stdin",
     "output_type": "stream",
     "text": [
      "Please place your order here: Expresso\n"
     ]
    },
    {
     "name": "stdout",
     "output_type": "stream",
     "text": [
      "Invalid Order\n",
      "Latte 200\n",
      "Drip Coffee 140\n",
      "Chai-Tea 120\n",
      "Cappuccino 170\n",
      "Espresso 160\n"
     ]
    },
    {
     "name": "stdin",
     "output_type": "stream",
     "text": [
      "Please place your order here: espresso\n"
     ]
    },
    {
     "name": "stdout",
     "output_type": "stream",
     "text": [
      "Preparing your espresso\n",
      "Your order is ready!\n",
      "Please enjoy your Espresso\n"
     ]
    },
    {
     "name": "stdin",
     "output_type": "stream",
     "text": [
      "Do you want to order anything else? no\n"
     ]
    },
    {
     "name": "stdout",
     "output_type": "stream",
     "text": [
      "Your total bill: 160\n"
     ]
    },
    {
     "name": "stdin",
     "output_type": "stream",
     "text": [
      "Please pay your bill here: 11\n"
     ]
    },
    {
     "name": "stdout",
     "output_type": "stream",
     "text": [
      "Invalid Payment\n",
      "Please pay remaining 149\n"
     ]
    },
    {
     "name": "stdin",
     "output_type": "stream",
     "text": [
      "Please pay your bill here: 222\n"
     ]
    },
    {
     "name": "stdout",
     "output_type": "stream",
     "text": [
      "Payment Successful\n",
      "Here is your change: 73\n",
      "Thank you for visiting Moonlight Restaurant\n"
     ]
    }
   ],
   "source": [
    "rn='Moonlight Restaurant'\n",
    "rm={'latte':200,'drip coffee':140,'chai-tea':120,'cappuccino':170,'espresso':160}\n",
    "if __name__=='__main__':\n",
    "    rest_obj=RMS(rn,rm)\n",
    "    #rest_obj.welcome_user()\n",
    "    #rest_obj.order_process()\n",
    "    import tkinter as tk\n",
    "    \n",
    "    window=tk.Tk()\n",
    "    window.title('RMS')\n",
    "    window.geometry('300x300')\n",
    "    tk.Label(window,text=rest_obj.rest_name,font=('Helvetica',18)).place(x=30,y=40)\n",
    "    tk.Button(window,text='START ORDER',command=rest_obj.order_process,width=25).place(x=50,y=130)\n",
    "    window.mainloop()"
   ]
  },
  {
   "cell_type": "code",
   "execution_count": null,
   "id": "bb785405-36a5-491b-b2b4-9ff00fadb118",
   "metadata": {},
   "outputs": [],
   "source": []
  }
 ],
 "metadata": {
  "kernelspec": {
   "display_name": "Python 3 (ipykernel)",
   "language": "python",
   "name": "python3"
  },
  "language_info": {
   "codemirror_mode": {
    "name": "ipython",
    "version": 3
   },
   "file_extension": ".py",
   "mimetype": "text/x-python",
   "name": "python",
   "nbconvert_exporter": "python",
   "pygments_lexer": "ipython3",
   "version": "3.12.7"
  }
 },
 "nbformat": 4,
 "nbformat_minor": 5
}
